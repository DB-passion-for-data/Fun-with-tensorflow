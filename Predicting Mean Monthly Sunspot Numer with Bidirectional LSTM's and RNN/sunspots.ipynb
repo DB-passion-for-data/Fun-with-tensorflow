{
 "cells": [
  {
   "cell_type": "code",
   "execution_count": null,
   "metadata": {
    "execution": {
     "iopub.execute_input": "2021-05-25T18:07:24.517882Z",
     "iopub.status.busy": "2021-05-25T18:07:24.517459Z",
     "iopub.status.idle": "2021-05-25T18:07:24.524092Z",
     "shell.execute_reply": "2021-05-25T18:07:24.522807Z",
     "shell.execute_reply.started": "2021-05-25T18:07:24.517839Z"
    }
   },
   "outputs": [],
   "source": [
    "# data visualization\n",
    "import matplotlib.pyplot as plt\n",
    "\n",
    "import numpy as np # linear algebra\n",
    "import pandas as pd # data processing, CSV file I/O (e.g. pd.read_csv)\n",
    "\n",
    "## Deep learning frame work\n",
    "import tensorflow as tf"
   ]
  },
  {
   "cell_type": "code",
   "execution_count": 3,
   "metadata": {
    "execution": {
     "iopub.execute_input": "2021-05-26T05:07:52.008885Z",
     "iopub.status.busy": "2021-05-26T05:07:52.008226Z",
     "iopub.status.idle": "2021-05-26T05:07:52.054730Z",
     "shell.execute_reply": "2021-05-26T05:07:52.053377Z",
     "shell.execute_reply.started": "2021-05-26T05:07:52.008840Z"
    }
   },
   "outputs": [
    {
     "data": {
      "text/html": [
       "<div>\n",
       "<style scoped>\n",
       "    .dataframe tbody tr th:only-of-type {\n",
       "        vertical-align: middle;\n",
       "    }\n",
       "\n",
       "    .dataframe tbody tr th {\n",
       "        vertical-align: top;\n",
       "    }\n",
       "\n",
       "    .dataframe thead th {\n",
       "        text-align: right;\n",
       "    }\n",
       "</style>\n",
       "<table border=\"1\" class=\"dataframe\">\n",
       "  <thead>\n",
       "    <tr style=\"text-align: right;\">\n",
       "      <th></th>\n",
       "      <th>Unnamed: 0</th>\n",
       "      <th>Date</th>\n",
       "      <th>Monthly Mean Total Sunspot Number</th>\n",
       "    </tr>\n",
       "  </thead>\n",
       "  <tbody>\n",
       "    <tr>\n",
       "      <th>0</th>\n",
       "      <td>0</td>\n",
       "      <td>1749-01-31</td>\n",
       "      <td>96.7</td>\n",
       "    </tr>\n",
       "    <tr>\n",
       "      <th>1</th>\n",
       "      <td>1</td>\n",
       "      <td>1749-02-28</td>\n",
       "      <td>104.3</td>\n",
       "    </tr>\n",
       "    <tr>\n",
       "      <th>2</th>\n",
       "      <td>2</td>\n",
       "      <td>1749-03-31</td>\n",
       "      <td>116.7</td>\n",
       "    </tr>\n",
       "    <tr>\n",
       "      <th>3</th>\n",
       "      <td>3</td>\n",
       "      <td>1749-04-30</td>\n",
       "      <td>92.8</td>\n",
       "    </tr>\n",
       "    <tr>\n",
       "      <th>4</th>\n",
       "      <td>4</td>\n",
       "      <td>1749-05-31</td>\n",
       "      <td>141.7</td>\n",
       "    </tr>\n",
       "  </tbody>\n",
       "</table>\n",
       "</div>"
      ],
      "text/plain": [
       "   Unnamed: 0        Date  Monthly Mean Total Sunspot Number\n",
       "0           0  1749-01-31                               96.7\n",
       "1           1  1749-02-28                              104.3\n",
       "2           2  1749-03-31                              116.7\n",
       "3           3  1749-04-30                               92.8\n",
       "4           4  1749-05-31                              141.7"
      ]
     },
     "execution_count": 3,
     "metadata": {},
     "output_type": "execute_result"
    }
   ],
   "source": [
    "data = pd.read_csv(\"../input/sunspots/Sunspots.csv\")\n",
    "data.head()"
   ]
  },
  {
   "cell_type": "code",
   "execution_count": 4,
   "metadata": {
    "execution": {
     "iopub.execute_input": "2021-05-26T05:07:57.981041Z",
     "iopub.status.busy": "2021-05-26T05:07:57.980574Z",
     "iopub.status.idle": "2021-05-26T05:07:57.989288Z",
     "shell.execute_reply": "2021-05-26T05:07:57.987434Z",
     "shell.execute_reply.started": "2021-05-26T05:07:57.980995Z"
    }
   },
   "outputs": [
    {
     "data": {
      "text/plain": [
       "3265"
      ]
     },
     "execution_count": 4,
     "metadata": {},
     "output_type": "execute_result"
    }
   ],
   "source": [
    "len(data)"
   ]
  },
  {
   "cell_type": "code",
   "execution_count": 5,
   "metadata": {
    "execution": {
     "iopub.execute_input": "2021-05-26T05:07:58.689752Z",
     "iopub.status.busy": "2021-05-26T05:07:58.689266Z",
     "iopub.status.idle": "2021-05-26T05:07:58.924522Z",
     "shell.execute_reply": "2021-05-26T05:07:58.923222Z",
     "shell.execute_reply.started": "2021-05-26T05:07:58.689714Z"
    }
   },
   "outputs": [
    {
     "data": {
      "text/plain": [
       "<matplotlib.collections.PathCollection at 0x7f798aa6b590>"
      ]
     },
     "execution_count": 5,
     "metadata": {},
     "output_type": "execute_result"
    },
    {
     "data": {
      "image/png": "[encoded data removed]",
      "text/plain": [
       "<Figure size 432x288 with 1 Axes>"
      ]
     },
     "metadata": {
      "needs_background": "light"
     },
     "output_type": "display_data"
    }
   ],
   "source": [
    "plt.scatter(range(len(data)),data[\"Monthly Mean Total Sunspot Number\"])"
   ]
  },
  {
   "cell_type": "code",
   "execution_count": 6,
   "metadata": {
    "execution": {
     "iopub.execute_input": "2021-05-26T05:07:59.519868Z",
     "iopub.status.busy": "2021-05-26T05:07:59.519379Z",
     "iopub.status.idle": "2021-05-26T05:07:59.535966Z",
     "shell.execute_reply": "2021-05-26T05:07:59.534694Z",
     "shell.execute_reply.started": "2021-05-26T05:07:59.519835Z"
    }
   },
   "outputs": [
    {
     "name": "stdout",
     "output_type": "stream",
     "text": [
      "<class 'pandas.core.frame.DataFrame'>\n",
      "RangeIndex: 3265 entries, 0 to 3264\n",
      "Data columns (total 3 columns):\n",
      " #   Column                             Non-Null Count  Dtype  \n",
      "---  ------                             --------------  -----  \n",
      " 0   Unnamed: 0                         3265 non-null   int64  \n",
      " 1   Date                               3265 non-null   object \n",
      " 2   Monthly Mean Total Sunspot Number  3265 non-null   float64\n",
      "dtypes: float64(1), int64(1), object(1)\n",
      "memory usage: 76.6+ KB\n"
     ]
    }
   ],
   "source": [
    "data.info()"
   ]
  },
  {
   "cell_type": "code",
   "execution_count": 7,
   "metadata": {
    "execution": {
     "iopub.execute_input": "2021-05-26T05:08:00.459630Z",
     "iopub.status.busy": "2021-05-26T05:08:00.459226Z",
     "iopub.status.idle": "2021-05-26T05:08:00.465095Z",
     "shell.execute_reply": "2021-05-26T05:08:00.463716Z",
     "shell.execute_reply.started": "2021-05-26T05:08:00.459600Z"
    }
   },
   "outputs": [],
   "source": [
    "c_data = data.copy(deep = True)"
   ]
  },
  {
   "cell_type": "code",
   "execution_count": 8,
   "metadata": {
    "execution": {
     "iopub.execute_input": "2021-05-26T05:08:01.569766Z",
     "iopub.status.busy": "2021-05-26T05:08:01.569324Z",
     "iopub.status.idle": "2021-05-26T05:08:01.579864Z",
     "shell.execute_reply": "2021-05-26T05:08:01.578583Z",
     "shell.execute_reply.started": "2021-05-26T05:08:01.569735Z"
    }
   },
   "outputs": [],
   "source": [
    "c_data[\"Date\"] = pd.to_datetime(c_data[\"Date\"])"
   ]
  },
  {
   "cell_type": "code",
   "execution_count": 9,
   "metadata": {
    "execution": {
     "iopub.execute_input": "2021-05-26T05:08:02.404738Z",
     "iopub.status.busy": "2021-05-26T05:08:02.404338Z",
     "iopub.status.idle": "2021-05-26T05:08:02.648463Z",
     "shell.execute_reply": "2021-05-26T05:08:02.647286Z",
     "shell.execute_reply.started": "2021-05-26T05:08:02.404709Z"
    }
   },
   "outputs": [
    {
     "data": {
      "text/plain": [
       "[<matplotlib.lines.Line2D at 0x7f798a916810>]"
      ]
     },
     "execution_count": 9,
     "metadata": {},
     "output_type": "execute_result"
    },
    {
     "data": {
      "image/png": "[encoded data removed]",
      "text/plain": [
       "<Figure size 1080x576 with 1 Axes>"
      ]
     },
     "metadata": {
      "needs_background": "light"
     },
     "output_type": "display_data"
    }
   ],
   "source": [
    "plt.figure(figsize=(15,8))\n",
    "plt.plot(c_data[\"Date\"],c_data[\"Monthly Mean Total Sunspot Number\"])"
   ]
  },
  {
   "cell_type": "code",
   "execution_count": 10,
   "metadata": {
    "execution": {
     "iopub.execute_input": "2021-05-26T05:08:03.340470Z",
     "iopub.status.busy": "2021-05-26T05:08:03.340031Z",
     "iopub.status.idle": "2021-05-26T05:08:03.348337Z",
     "shell.execute_reply": "2021-05-26T05:08:03.346901Z",
     "shell.execute_reply.started": "2021-05-26T05:08:03.340432Z"
    }
   },
   "outputs": [
    {
     "name": "stdout",
     "output_type": "stream",
     "text": [
      "Range of time in this Dataset is 1749-02-28 00:00:00 to 2021-01-31 00:00:00\n",
      "Its almost 99318 days 00:00:00\n"
     ]
    }
   ],
   "source": [
    "## Range of time in this dataset\n",
    "print(\"Range of time in this Dataset is {} to {}\".format(c_data[\"Date\"][1],c_data[\"Date\"][len(c_data)-1]))\n",
    "print(\"Its almost {}\".format(c_data[\"Date\"][len(c_data)-1]-c_data[\"Date\"][1]))"
   ]
  },
  {
   "cell_type": "code",
   "execution_count": 11,
   "metadata": {
    "execution": {
     "iopub.execute_input": "2021-05-26T05:08:04.319439Z",
     "iopub.status.busy": "2021-05-26T05:08:04.319054Z",
     "iopub.status.idle": "2021-05-26T05:08:04.328035Z",
     "shell.execute_reply": "2021-05-26T05:08:04.326770Z",
     "shell.execute_reply.started": "2021-05-26T05:08:04.319394Z"
    }
   },
   "outputs": [],
   "source": [
    "series = np.array(data.iloc[:,2])\n",
    "time_step = np.array(data.iloc[:,1])"
   ]
  },
  {
   "cell_type": "code",
   "execution_count": 12,
   "metadata": {
    "execution": {
     "iopub.execute_input": "2021-05-26T05:08:06.419757Z",
     "iopub.status.busy": "2021-05-26T05:08:06.419280Z",
     "iopub.status.idle": "2021-05-26T05:08:06.426234Z",
     "shell.execute_reply": "2021-05-26T05:08:06.425069Z",
     "shell.execute_reply.started": "2021-05-26T05:08:06.419713Z"
    }
   },
   "outputs": [],
   "source": [
    "### splitting data into time and test series.\n",
    "split_time = 2000\n",
    "time_train = time_step[:split_time]\n",
    "x_train = series[:split_time]\n",
    "time_valid = time_step[split_time:]\n",
    "x_valid = series[split_time:]\n",
    "\n",
    "window_size = 20\n",
    "batch_size = 32\n",
    "shuffle_buffer_size = 2000"
   ]
  },
  {
   "cell_type": "markdown",
   "metadata": {},
   "source": [
    "## Preparing the windowed dataset for our model"
   ]
  },
  {
   "cell_type": "code",
   "execution_count": 14,
   "metadata": {
    "execution": {
     "iopub.execute_input": "2021-05-26T05:08:14.665379Z",
     "iopub.status.busy": "2021-05-26T05:08:14.664941Z",
     "iopub.status.idle": "2021-05-26T05:08:14.675110Z",
     "shell.execute_reply": "2021-05-26T05:08:14.672067Z",
     "shell.execute_reply.started": "2021-05-26T05:08:14.665336Z"
    }
   },
   "outputs": [],
   "source": [
    "def windowed_dataset(series,batch_size,window,shuffle_buffer_size):\n",
    "    series = tf.expand_dims(series,axis = -1) ## making 2-dimensional array\n",
    "    ds = tf.data.Dataset.from_tensor_slices(series)\n",
    "    ds = ds.window(window_size + 1, shift =1 , drop_remainder = True)\n",
    "    ds = ds.flat_map(lambda w: w.batch(window_size + 1))\n",
    "    ds = ds.shuffle(shuffle_buffer_size)\n",
    "    ds = ds.map(lambda w: (w[:-1],w[1:]))\n",
    "    return ds.batch(batch_size).prefetch(1)"
   ]
  },
  {
   "cell_type": "code",
   "execution_count": 15,
   "metadata": {
    "execution": {
     "iopub.execute_input": "2021-05-26T05:08:14.678272Z",
     "iopub.status.busy": "2021-05-26T05:08:14.677709Z",
     "iopub.status.idle": "2021-05-26T05:08:14.690044Z",
     "shell.execute_reply": "2021-05-26T05:08:14.688743Z",
     "shell.execute_reply.started": "2021-05-26T05:08:14.678193Z"
    }
   },
   "outputs": [],
   "source": [
    "def model_forecast(model,series,window_size):\n",
    "    ds = tf.data.Dataset.from_tensor_slices(series)\n",
    "    ds = ds.window(window_size,shift=1,drop_remainder=True)\n",
    "    ds = ds.flat_map(lambda w:w.batch(window_size))\n",
    "    ds = ds.batch(32).prefetch(1)\n",
    "    forecast = model.predict(ds)\n",
    "    return forecast"
   ]
  },
  {
   "cell_type": "markdown",
   "metadata": {},
   "source": [
    "## Model Training"
   ]
  },
  {
   "cell_type": "code",
   "execution_count": 64,
   "metadata": {
    "execution": {
     "iopub.execute_input": "2021-05-26T05:55:39.720860Z",
     "iopub.status.busy": "2021-05-26T05:55:39.720450Z",
     "iopub.status.idle": "2021-05-26T06:22:18.779140Z",
     "shell.execute_reply": "2021-05-26T06:22:18.777984Z",
     "shell.execute_reply.started": "2021-05-26T05:55:39.720815Z"
    },
    "scrolled": true
   },
   "outputs": [
    {
     "name": "stdout",
     "output_type": "stream",
     "text": [
      "Epoch 1/250\n",
      "33/33 [==============================] - 17s 231ms/step - loss: 75.2512 - mae: 75.7388 - val_loss: 91.0214 - val_mae: 91.5168\n",
      "Epoch 2/250\n",
      "33/33 [==============================] - 6s 183ms/step - loss: 74.4817 - mae: 74.9711 - val_loss: 90.6378 - val_mae: 91.1337\n",
      "Epoch 3/250\n",
      "33/33 [==============================] - 6s 184ms/step - loss: 75.1333 - mae: 75.6255 - val_loss: 90.2802 - val_mae: 90.7767\n",
      "Epoch 4/250\n",
      "33/33 [==============================] - 7s 193ms/step - loss: 73.2745 - mae: 73.7676 - val_loss: 89.9715 - val_mae: 90.4683\n",
      "Epoch 5/250\n",
      "33/33 [==============================] - 7s 189ms/step - loss: 72.6276 - mae: 73.1216 - val_loss: 89.7199 - val_mae: 90.2170\n",
      "Epoch 6/250\n",
      "33/33 [==============================] - 6s 179ms/step - loss: 72.5936 - mae: 73.0877 - val_loss: 89.4829 - val_mae: 89.9797\n",
      "Epoch 7/250\n",
      "33/33 [==============================] - 6s 176ms/step - loss: 74.6134 - mae: 75.1087 - val_loss: 89.2449 - val_mae: 89.7415\n",
      "Epoch 8/250\n",
      "33/33 [==============================] - 6s 173ms/step - loss: 71.9096 - mae: 72.4049 - val_loss: 89.0030 - val_mae: 89.4998\n",
      "Epoch 9/250\n",
      "33/33 [==============================] - 7s 203ms/step - loss: 72.7467 - mae: 73.2428 - val_loss: 88.7543 - val_mae: 89.2516\n",
      "Epoch 10/250\n",
      "33/33 [==============================] - 7s 190ms/step - loss: 72.4625 - mae: 72.9592 - val_loss: 88.4991 - val_mae: 88.9968\n",
      "Epoch 11/250\n",
      "33/33 [==============================] - 6s 183ms/step - loss: 72.3931 - mae: 72.8896 - val_loss: 88.2337 - val_mae: 88.7315\n",
      "Epoch 12/250\n",
      "33/33 [==============================] - 6s 184ms/step - loss: 73.0252 - mae: 73.5219 - val_loss: 87.9601 - val_mae: 88.4576\n",
      "Epoch 13/250\n",
      "33/33 [==============================] - 6s 180ms/step - loss: 72.4234 - mae: 72.9203 - val_loss: 87.6738 - val_mae: 88.1714\n",
      "Epoch 14/250\n",
      "33/33 [==============================] - 7s 205ms/step - loss: 71.6978 - mae: 72.1944 - val_loss: 87.3751 - val_mae: 87.8726\n",
      "Epoch 15/250\n",
      "33/33 [==============================] - 7s 189ms/step - loss: 70.4491 - mae: 70.9455 - val_loss: 87.0634 - val_mae: 87.5604\n",
      "Epoch 16/250\n",
      "33/33 [==============================] - 6s 180ms/step - loss: 72.6292 - mae: 73.1262 - val_loss: 86.7366 - val_mae: 87.2326\n",
      "Epoch 17/250\n",
      "33/33 [==============================] - 7s 187ms/step - loss: 71.3115 - mae: 71.8085 - val_loss: 86.3972 - val_mae: 86.8933\n",
      "Epoch 18/250\n",
      "33/33 [==============================] - 6s 176ms/step - loss: 71.1706 - mae: 71.6677 - val_loss: 86.0414 - val_mae: 86.5384\n",
      "Epoch 19/250\n",
      "33/33 [==============================] - 7s 203ms/step - loss: 68.7652 - mae: 69.2624 - val_loss: 85.6702 - val_mae: 86.1676\n",
      "Epoch 20/250\n",
      "33/33 [==============================] - 6s 184ms/step - loss: 69.9763 - mae: 70.4729 - val_loss: 85.2827 - val_mae: 85.7795\n",
      "Epoch 21/250\n",
      "33/33 [==============================] - 6s 177ms/step - loss: 70.0030 - mae: 70.4992 - val_loss: 84.8789 - val_mae: 85.3748\n",
      "Epoch 22/250\n",
      "33/33 [==============================] - 7s 191ms/step - loss: 68.9599 - mae: 69.4568 - val_loss: 84.4598 - val_mae: 84.9570\n",
      "Epoch 23/250\n",
      "33/33 [==============================] - 6s 172ms/step - loss: 68.2674 - mae: 68.7635 - val_loss: 84.0222 - val_mae: 84.5197\n",
      "Epoch 24/250\n",
      "33/33 [==============================] - 7s 200ms/step - loss: 66.9984 - mae: 67.4944 - val_loss: 83.5660 - val_mae: 84.0637\n",
      "Epoch 25/250\n",
      "33/33 [==============================] - 6s 175ms/step - loss: 66.6265 - mae: 67.1227 - val_loss: 83.0902 - val_mae: 83.5876\n",
      "Epoch 26/250\n",
      "33/33 [==============================] - 6s 177ms/step - loss: 66.2765 - mae: 66.7719 - val_loss: 82.5967 - val_mae: 83.0943\n",
      "Epoch 27/250\n",
      "33/33 [==============================] - 7s 191ms/step - loss: 67.7403 - mae: 68.2369 - val_loss: 82.0856 - val_mae: 82.5828\n",
      "Epoch 28/250\n",
      "33/33 [==============================] - 6s 179ms/step - loss: 66.6948 - mae: 67.1908 - val_loss: 81.5575 - val_mae: 82.0552\n",
      "Epoch 29/250\n",
      "33/33 [==============================] - 7s 199ms/step - loss: 66.8962 - mae: 67.3926 - val_loss: 81.0072 - val_mae: 81.5045\n",
      "Epoch 30/250\n",
      "33/33 [==============================] - 6s 175ms/step - loss: 65.5651 - mae: 66.0623 - val_loss: 80.4357 - val_mae: 80.9315\n",
      "Epoch 31/250\n",
      "33/33 [==============================] - 6s 183ms/step - loss: 64.9427 - mae: 65.4380 - val_loss: 79.8571 - val_mae: 80.3533\n",
      "Epoch 32/250\n",
      "33/33 [==============================] - 6s 183ms/step - loss: 66.4940 - mae: 66.9890 - val_loss: 79.2577 - val_mae: 79.7554\n",
      "Epoch 33/250\n",
      "33/33 [==============================] - 6s 175ms/step - loss: 63.7523 - mae: 64.2478 - val_loss: 78.6411 - val_mae: 79.1391\n",
      "Epoch 34/250\n",
      "33/33 [==============================] - 7s 199ms/step - loss: 62.7901 - mae: 63.2862 - val_loss: 78.0130 - val_mae: 78.5104\n",
      "Epoch 35/250\n",
      "33/33 [==============================] - 6s 175ms/step - loss: 62.0685 - mae: 62.5651 - val_loss: 77.3634 - val_mae: 77.8595\n",
      "Epoch 36/250\n",
      "33/33 [==============================] - 6s 183ms/step - loss: 62.4041 - mae: 62.9002 - val_loss: 76.6879 - val_mae: 77.1836\n",
      "Epoch 37/250\n",
      "33/33 [==============================] - 6s 179ms/step - loss: 61.4516 - mae: 61.9475 - val_loss: 75.9902 - val_mae: 76.4859\n",
      "Epoch 38/250\n",
      "33/33 [==============================] - 7s 183ms/step - loss: 59.9883 - mae: 60.4841 - val_loss: 75.2437 - val_mae: 75.7405\n",
      "Epoch 39/250\n",
      "33/33 [==============================] - 7s 207ms/step - loss: 58.3023 - mae: 58.7972 - val_loss: 74.4547 - val_mae: 74.9505\n",
      "Epoch 40/250\n",
      "33/33 [==============================] - 6s 178ms/step - loss: 58.8319 - mae: 59.3270 - val_loss: 73.6090 - val_mae: 74.1050\n",
      "Epoch 41/250\n",
      "33/33 [==============================] - 7s 190ms/step - loss: 58.9003 - mae: 59.3956 - val_loss: 72.6990 - val_mae: 73.1955\n",
      "Epoch 42/250\n",
      "33/33 [==============================] - 6s 181ms/step - loss: 56.8111 - mae: 57.3042 - val_loss: 71.7316 - val_mae: 72.2281\n",
      "Epoch 43/250\n",
      "33/33 [==============================] - 6s 182ms/step - loss: 58.2430 - mae: 58.7370 - val_loss: 70.6867 - val_mae: 71.1828\n",
      "Epoch 44/250\n",
      "33/33 [==============================] - 7s 196ms/step - loss: 57.1758 - mae: 57.6706 - val_loss: 69.5994 - val_mae: 70.0947\n",
      "Epoch 45/250\n",
      "33/33 [==============================] - 6s 174ms/step - loss: 54.5270 - mae: 55.0211 - val_loss: 68.4578 - val_mae: 68.9515\n",
      "Epoch 46/250\n",
      "33/33 [==============================] - 6s 184ms/step - loss: 54.3777 - mae: 54.8716 - val_loss: 67.2539 - val_mae: 67.7467\n",
      "Epoch 47/250\n",
      "33/33 [==============================] - 6s 175ms/step - loss: 52.3974 - mae: 52.8910 - val_loss: 66.0055 - val_mae: 66.4987\n",
      "Epoch 48/250\n",
      "33/33 [==============================] - 6s 185ms/step - loss: 49.8002 - mae: 50.2935 - val_loss: 64.7052 - val_mae: 65.1986\n",
      "Epoch 49/250\n",
      "33/33 [==============================] - 6s 181ms/step - loss: 51.2394 - mae: 51.7324 - val_loss: 63.3344 - val_mae: 63.8276\n",
      "Epoch 50/250\n",
      "33/33 [==============================] - 7s 176ms/step - loss: 50.0874 - mae: 50.5797 - val_loss: 61.9270 - val_mae: 62.4197\n",
      "Epoch 51/250\n",
      "33/33 [==============================] - 6s 185ms/step - loss: 47.3896 - mae: 47.8824 - val_loss: 60.4719 - val_mae: 60.9646\n",
      "Epoch 52/250\n",
      "33/33 [==============================] - 6s 176ms/step - loss: 46.2303 - mae: 46.7234 - val_loss: 58.9624 - val_mae: 59.4552\n",
      "Epoch 53/250\n",
      "33/33 [==============================] - 6s 183ms/step - loss: 45.1908 - mae: 45.6835 - val_loss: 57.4126 - val_mae: 57.9055\n",
      "Epoch 54/250\n",
      "33/33 [==============================] - 6s 175ms/step - loss: 43.1359 - mae: 43.6276 - val_loss: 55.8507 - val_mae: 56.3438\n",
      "Epoch 55/250\n",
      "33/33 [==============================] - 7s 195ms/step - loss: 41.2912 - mae: 41.7833 - val_loss: 54.2600 - val_mae: 54.7529\n",
      "Epoch 56/250\n",
      "33/33 [==============================] - 6s 179ms/step - loss: 39.6675 - mae: 40.1591 - val_loss: 52.6837 - val_mae: 53.1762\n",
      "Epoch 57/250\n",
      "33/33 [==============================] - 6s 179ms/step - loss: 39.8111 - mae: 40.3034 - val_loss: 51.1189 - val_mae: 51.6107\n",
      "Epoch 58/250\n",
      "33/33 [==============================] - 6s 183ms/step - loss: 37.1989 - mae: 37.6914 - val_loss: 49.5383 - val_mae: 50.0297\n",
      "Epoch 59/250\n",
      "33/33 [==============================] - 6s 178ms/step - loss: 35.7692 - mae: 36.2609 - val_loss: 47.9953 - val_mae: 48.4863\n",
      "Epoch 60/250\n",
      "33/33 [==============================] - 7s 204ms/step - loss: 34.6273 - mae: 35.1190 - val_loss: 46.4060 - val_mae: 46.8978\n",
      "Epoch 61/250\n",
      "33/33 [==============================] - 6s 185ms/step - loss: 33.7983 - mae: 34.2902 - val_loss: 44.9951 - val_mae: 45.4866\n",
      "Epoch 62/250\n",
      "33/33 [==============================] - 6s 176ms/step - loss: 32.4340 - mae: 32.9254 - val_loss: 43.4251 - val_mae: 43.9152\n",
      "Epoch 63/250\n",
      "33/33 [==============================] - 6s 184ms/step - loss: 31.6788 - mae: 32.1701 - val_loss: 42.0643 - val_mae: 42.5557\n",
      "Epoch 64/250\n",
      "33/33 [==============================] - 6s 179ms/step - loss: 30.3141 - mae: 30.8046 - val_loss: 40.8292 - val_mae: 41.3212\n",
      "Epoch 65/250\n",
      "33/33 [==============================] - 7s 211ms/step - loss: 30.1474 - mae: 30.6385 - val_loss: 39.6353 - val_mae: 40.1268\n",
      "Epoch 66/250\n",
      "33/33 [==============================] - 6s 177ms/step - loss: 28.9261 - mae: 29.4169 - val_loss: 38.4625 - val_mae: 38.9531\n",
      "Epoch 67/250\n",
      "33/33 [==============================] - 6s 173ms/step - loss: 28.0996 - mae: 28.5902 - val_loss: 37.4161 - val_mae: 37.9079\n",
      "Epoch 68/250\n",
      "33/33 [==============================] - 6s 184ms/step - loss: 26.8525 - mae: 27.3432 - val_loss: 36.3820 - val_mae: 36.8730\n",
      "Epoch 69/250\n",
      "33/33 [==============================] - 6s 176ms/step - loss: 26.4435 - mae: 26.9342 - val_loss: 35.3651 - val_mae: 35.8566\n",
      "Epoch 70/250\n",
      "33/33 [==============================] - 7s 201ms/step - loss: 25.1986 - mae: 25.6890 - val_loss: 34.4422 - val_mae: 34.9327\n",
      "Epoch 71/250\n",
      "33/33 [==============================] - 6s 173ms/step - loss: 25.7668 - mae: 26.2577 - val_loss: 33.5324 - val_mae: 34.0237\n",
      "Epoch 72/250\n",
      "33/33 [==============================] - 7s 190ms/step - loss: 24.7151 - mae: 25.2054 - val_loss: 32.6781 - val_mae: 33.1699\n",
      "Epoch 73/250\n",
      "33/33 [==============================] - 6s 184ms/step - loss: 23.3570 - mae: 23.8474 - val_loss: 31.9997 - val_mae: 32.4922\n",
      "Epoch 74/250\n",
      "33/33 [==============================] - 6s 177ms/step - loss: 23.4197 - mae: 23.9104 - val_loss: 31.1425 - val_mae: 31.6344\n",
      "Epoch 75/250\n",
      "33/33 [==============================] - 7s 201ms/step - loss: 23.0671 - mae: 23.5581 - val_loss: 30.3992 - val_mae: 30.8913\n",
      "Epoch 76/250\n",
      "33/33 [==============================] - 6s 175ms/step - loss: 23.0788 - mae: 23.5703 - val_loss: 29.6884 - val_mae: 30.1797\n",
      "Epoch 77/250\n",
      "33/33 [==============================] - 6s 183ms/step - loss: 22.0815 - mae: 22.5725 - val_loss: 29.0233 - val_mae: 29.5154\n",
      "Epoch 78/250\n",
      "33/33 [==============================] - 6s 173ms/step - loss: 22.4778 - mae: 22.9692 - val_loss: 28.1710 - val_mae: 28.6629\n",
      "Epoch 79/250\n",
      "33/33 [==============================] - 6s 181ms/step - loss: 21.3466 - mae: 21.8382 - val_loss: 27.5566 - val_mae: 28.0484\n",
      "Epoch 80/250\n",
      "33/33 [==============================] - 7s 198ms/step - loss: 21.0179 - mae: 21.5093 - val_loss: 26.8515 - val_mae: 27.3433\n",
      "Epoch 81/250\n",
      "33/33 [==============================] - 6s 176ms/step - loss: 21.0799 - mae: 21.5709 - val_loss: 26.2289 - val_mae: 26.7202\n",
      "Epoch 82/250\n",
      "33/33 [==============================] - 6s 186ms/step - loss: 20.2424 - mae: 20.7337 - val_loss: 25.5930 - val_mae: 26.0834\n",
      "Epoch 83/250\n",
      "33/33 [==============================] - 6s 174ms/step - loss: 19.9361 - mae: 20.4270 - val_loss: 24.9449 - val_mae: 25.4357\n",
      "Epoch 84/250\n",
      "33/33 [==============================] - 6s 184ms/step - loss: 19.6754 - mae: 20.1663 - val_loss: 24.4574 - val_mae: 24.9478\n",
      "Epoch 85/250\n",
      "33/33 [==============================] - 6s 182ms/step - loss: 19.0046 - mae: 19.4959 - val_loss: 23.8453 - val_mae: 24.3356\n",
      "Epoch 86/250\n",
      "33/33 [==============================] - 7s 187ms/step - loss: 18.9484 - mae: 19.4402 - val_loss: 23.3403 - val_mae: 23.8307\n",
      "Epoch 87/250\n",
      "33/33 [==============================] - 6s 181ms/step - loss: 19.1273 - mae: 19.6189 - val_loss: 22.8234 - val_mae: 23.3138\n",
      "Epoch 88/250\n",
      "33/33 [==============================] - 6s 180ms/step - loss: 18.8818 - mae: 19.3730 - val_loss: 22.3170 - val_mae: 22.8076\n",
      "Epoch 89/250\n",
      "33/33 [==============================] - 6s 185ms/step - loss: 18.2388 - mae: 18.7305 - val_loss: 21.8497 - val_mae: 22.3398\n",
      "Epoch 90/250\n",
      "33/33 [==============================] - 6s 178ms/step - loss: 18.0406 - mae: 18.5317 - val_loss: 21.3875 - val_mae: 21.8782\n",
      "Epoch 91/250\n",
      "33/33 [==============================] - 7s 195ms/step - loss: 17.2385 - mae: 17.7291 - val_loss: 20.9572 - val_mae: 21.4476\n",
      "Epoch 92/250\n",
      "33/33 [==============================] - 6s 176ms/step - loss: 17.7032 - mae: 18.1944 - val_loss: 20.5959 - val_mae: 21.0870\n",
      "Epoch 93/250\n",
      "33/33 [==============================] - 6s 176ms/step - loss: 17.5770 - mae: 18.0684 - val_loss: 20.1607 - val_mae: 20.6518\n",
      "Epoch 94/250\n",
      "33/33 [==============================] - 6s 187ms/step - loss: 16.7249 - mae: 17.2155 - val_loss: 19.8151 - val_mae: 20.3057\n",
      "Epoch 95/250\n",
      "33/33 [==============================] - 6s 180ms/step - loss: 16.9190 - mae: 17.4095 - val_loss: 19.4963 - val_mae: 19.9877\n",
      "Epoch 96/250\n",
      "33/33 [==============================] - 7s 202ms/step - loss: 16.6240 - mae: 17.1148 - val_loss: 19.1789 - val_mae: 19.6694\n",
      "Epoch 97/250\n",
      "33/33 [==============================] - 6s 186ms/step - loss: 16.3932 - mae: 16.8840 - val_loss: 18.8977 - val_mae: 19.3895\n",
      "Epoch 98/250\n",
      "33/33 [==============================] - 6s 178ms/step - loss: 16.0818 - mae: 16.5723 - val_loss: 18.6241 - val_mae: 19.1155\n",
      "Epoch 99/250\n",
      "33/33 [==============================] - 6s 188ms/step - loss: 15.9670 - mae: 16.4574 - val_loss: 18.3812 - val_mae: 18.8725\n",
      "Epoch 100/250\n",
      "33/33 [==============================] - 6s 178ms/step - loss: 15.7223 - mae: 16.2124 - val_loss: 18.1638 - val_mae: 18.6543\n",
      "Epoch 101/250\n",
      "33/33 [==============================] - 7s 189ms/step - loss: 16.0069 - mae: 16.4977 - val_loss: 17.8330 - val_mae: 18.3245\n",
      "Epoch 102/250\n",
      "33/33 [==============================] - 7s 181ms/step - loss: 15.7350 - mae: 16.2255 - val_loss: 17.6189 - val_mae: 18.1098\n",
      "Epoch 103/250\n",
      "33/33 [==============================] - 6s 170ms/step - loss: 15.1113 - mae: 15.6017 - val_loss: 17.4064 - val_mae: 17.8980\n",
      "Epoch 104/250\n",
      "33/33 [==============================] - 6s 177ms/step - loss: 15.3198 - mae: 15.8101 - val_loss: 17.2238 - val_mae: 17.7146\n",
      "Epoch 105/250\n",
      "33/33 [==============================] - 6s 173ms/step - loss: 14.9411 - mae: 15.4311 - val_loss: 16.9926 - val_mae: 17.4832\n",
      "Epoch 106/250\n",
      "33/33 [==============================] - 6s 184ms/step - loss: 14.8950 - mae: 15.3850 - val_loss: 16.8916 - val_mae: 17.3826\n",
      "Epoch 107/250\n",
      "33/33 [==============================] - 7s 189ms/step - loss: 14.8410 - mae: 15.3307 - val_loss: 16.7314 - val_mae: 17.2210\n",
      "Epoch 108/250\n",
      "33/33 [==============================] - 7s 193ms/step - loss: 15.0165 - mae: 15.5063 - val_loss: 16.5343 - val_mae: 17.0251\n",
      "Epoch 109/250\n",
      "33/33 [==============================] - 6s 179ms/step - loss: 14.6159 - mae: 15.1054 - val_loss: 16.3074 - val_mae: 16.7977\n",
      "Epoch 110/250\n",
      "33/33 [==============================] - 6s 174ms/step - loss: 14.4333 - mae: 14.9230 - val_loss: 16.1713 - val_mae: 16.6618\n",
      "Epoch 111/250\n",
      "33/33 [==============================] - 6s 180ms/step - loss: 14.5129 - mae: 15.0027 - val_loss: 16.1722 - val_mae: 16.6613\n",
      "Epoch 112/250\n",
      "33/33 [==============================] - 7s 190ms/step - loss: 14.5883 - mae: 15.0785 - val_loss: 15.9253 - val_mae: 16.4153\n",
      "Epoch 113/250\n",
      "33/33 [==============================] - 6s 186ms/step - loss: 14.4995 - mae: 14.9894 - val_loss: 15.8070 - val_mae: 16.2961\n",
      "Epoch 114/250\n",
      "33/33 [==============================] - 6s 174ms/step - loss: 14.4572 - mae: 14.9469 - val_loss: 15.6922 - val_mae: 16.1817\n",
      "Epoch 115/250\n",
      "33/33 [==============================] - 6s 185ms/step - loss: 14.3908 - mae: 14.8803 - val_loss: 15.6318 - val_mae: 16.1224\n",
      "Epoch 116/250\n",
      "33/33 [==============================] - 6s 183ms/step - loss: 14.2486 - mae: 14.7380 - val_loss: 15.4166 - val_mae: 15.9058\n",
      "Epoch 117/250\n",
      "33/33 [==============================] - 7s 189ms/step - loss: 13.6323 - mae: 14.1211 - val_loss: 15.3217 - val_mae: 15.8112\n",
      "Epoch 118/250\n",
      "33/33 [==============================] - 6s 181ms/step - loss: 14.1369 - mae: 14.6257 - val_loss: 15.2174 - val_mae: 15.7062\n",
      "Epoch 119/250\n",
      "33/33 [==============================] - 6s 173ms/step - loss: 13.8255 - mae: 14.3145 - val_loss: 15.1564 - val_mae: 15.6453\n",
      "Epoch 120/250\n",
      "33/33 [==============================] - 6s 180ms/step - loss: 13.8242 - mae: 14.3134 - val_loss: 15.0322 - val_mae: 15.5218\n",
      "Epoch 121/250\n",
      "33/33 [==============================] - 6s 173ms/step - loss: 13.6916 - mae: 14.1804 - val_loss: 14.9271 - val_mae: 15.4162\n",
      "Epoch 122/250\n",
      "33/33 [==============================] - 7s 196ms/step - loss: 13.5878 - mae: 14.0764 - val_loss: 14.9294 - val_mae: 15.4191\n",
      "Epoch 123/250\n",
      "33/33 [==============================] - 6s 181ms/step - loss: 13.8134 - mae: 14.3022 - val_loss: 14.7471 - val_mae: 15.2359\n",
      "Epoch 124/250\n",
      "33/33 [==============================] - 6s 177ms/step - loss: 13.4210 - mae: 13.9095 - val_loss: 14.8192 - val_mae: 15.3080\n",
      "Epoch 125/250\n",
      "33/33 [==============================] - 6s 179ms/step - loss: 13.4314 - mae: 13.9202 - val_loss: 14.6293 - val_mae: 15.1185\n",
      "Epoch 126/250\n",
      "33/33 [==============================] - 6s 171ms/step - loss: 13.2563 - mae: 13.7450 - val_loss: 14.5307 - val_mae: 15.0195\n",
      "Epoch 127/250\n",
      "33/33 [==============================] - 6s 183ms/step - loss: 13.4034 - mae: 13.8919 - val_loss: 14.4253 - val_mae: 14.9138\n",
      "Epoch 128/250\n",
      "33/33 [==============================] - 6s 179ms/step - loss: 13.2149 - mae: 13.7031 - val_loss: 14.3844 - val_mae: 14.8732\n",
      "Epoch 129/250\n",
      "33/33 [==============================] - 6s 185ms/step - loss: 13.5580 - mae: 14.0475 - val_loss: 14.4402 - val_mae: 14.9292\n",
      "Epoch 130/250\n",
      "33/33 [==============================] - 6s 182ms/step - loss: 13.2296 - mae: 13.7186 - val_loss: 14.2303 - val_mae: 14.7195\n",
      "Epoch 131/250\n",
      "33/33 [==============================] - 6s 174ms/step - loss: 13.0446 - mae: 13.5331 - val_loss: 14.2186 - val_mae: 14.7074\n",
      "Epoch 132/250\n",
      "33/33 [==============================] - 6s 186ms/step - loss: 13.2314 - mae: 13.7203 - val_loss: 14.0892 - val_mae: 14.5779\n",
      "Epoch 133/250\n",
      "33/33 [==============================] - 7s 189ms/step - loss: 12.9790 - mae: 13.4669 - val_loss: 14.0140 - val_mae: 14.5026\n",
      "Epoch 134/250\n",
      "33/33 [==============================] - 6s 182ms/step - loss: 13.0925 - mae: 13.5812 - val_loss: 14.6041 - val_mae: 15.0935\n",
      "Epoch 135/250\n",
      "33/33 [==============================] - 6s 173ms/step - loss: 13.0540 - mae: 13.5430 - val_loss: 13.9409 - val_mae: 14.4294\n",
      "Epoch 136/250\n",
      "33/33 [==============================] - 6s 180ms/step - loss: 12.9457 - mae: 13.4341 - val_loss: 13.8478 - val_mae: 14.3364\n",
      "Epoch 137/250\n",
      "33/33 [==============================] - 6s 182ms/step - loss: 12.7858 - mae: 13.2735 - val_loss: 13.7459 - val_mae: 14.2343\n",
      "Epoch 138/250\n",
      "33/33 [==============================] - 7s 189ms/step - loss: 12.7551 - mae: 13.2435 - val_loss: 13.6840 - val_mae: 14.1718\n",
      "Epoch 139/250\n",
      "33/33 [==============================] - 6s 184ms/step - loss: 12.8137 - mae: 13.3020 - val_loss: 13.6479 - val_mae: 14.1361\n",
      "Epoch 140/250\n",
      "33/33 [==============================] - 6s 171ms/step - loss: 12.6717 - mae: 13.1599 - val_loss: 13.8338 - val_mae: 14.3214\n",
      "Epoch 141/250\n",
      "33/33 [==============================] - 6s 179ms/step - loss: 12.8965 - mae: 13.3856 - val_loss: 13.5234 - val_mae: 14.0116\n",
      "Epoch 142/250\n",
      "33/33 [==============================] - 6s 170ms/step - loss: 12.3508 - mae: 12.8388 - val_loss: 13.4592 - val_mae: 13.9474\n",
      "Epoch 143/250\n",
      "33/33 [==============================] - 7s 192ms/step - loss: 12.4997 - mae: 12.9873 - val_loss: 13.3667 - val_mae: 13.8545\n",
      "Epoch 144/250\n",
      "33/33 [==============================] - 6s 178ms/step - loss: 12.5748 - mae: 13.0625 - val_loss: 13.3285 - val_mae: 13.8169\n",
      "Epoch 145/250\n",
      "33/33 [==============================] - 6s 174ms/step - loss: 12.3311 - mae: 12.8183 - val_loss: 13.5134 - val_mae: 14.0000\n",
      "Epoch 146/250\n",
      "33/33 [==============================] - 6s 186ms/step - loss: 12.4403 - mae: 12.9277 - val_loss: 13.2517 - val_mae: 13.7394\n",
      "Epoch 147/250\n",
      "33/33 [==============================] - 6s 176ms/step - loss: 12.4167 - mae: 12.9044 - val_loss: 13.2750 - val_mae: 13.7629\n",
      "Epoch 148/250\n",
      "33/33 [==============================] - 7s 193ms/step - loss: 12.1788 - mae: 12.6662 - val_loss: 13.1547 - val_mae: 13.6424\n",
      "Epoch 149/250\n",
      "33/33 [==============================] - 6s 180ms/step - loss: 12.4004 - mae: 12.8876 - val_loss: 13.0807 - val_mae: 13.5680\n",
      "Epoch 150/250\n",
      "33/33 [==============================] - 6s 174ms/step - loss: 12.2179 - mae: 12.7048 - val_loss: 12.9927 - val_mae: 13.4817\n",
      "Epoch 151/250\n",
      "33/33 [==============================] - 6s 183ms/step - loss: 12.1211 - mae: 12.6083 - val_loss: 13.6510 - val_mae: 14.1381\n",
      "Epoch 152/250\n",
      "33/33 [==============================] - 6s 168ms/step - loss: 12.1507 - mae: 12.6384 - val_loss: 12.9605 - val_mae: 13.4469\n",
      "Epoch 153/250\n",
      "33/33 [==============================] - 6s 174ms/step - loss: 12.2677 - mae: 12.7544 - val_loss: 13.0561 - val_mae: 13.5425\n",
      "Epoch 154/250\n",
      "33/33 [==============================] - 7s 191ms/step - loss: 12.3298 - mae: 12.8170 - val_loss: 13.0379 - val_mae: 13.5256\n",
      "Epoch 155/250\n",
      "33/33 [==============================] - 6s 183ms/step - loss: 12.1381 - mae: 12.6254 - val_loss: 12.7648 - val_mae: 13.2518\n",
      "Epoch 156/250\n",
      "33/33 [==============================] - 6s 178ms/step - loss: 12.0666 - mae: 12.5536 - val_loss: 12.6821 - val_mae: 13.1700\n",
      "Epoch 157/250\n",
      "33/33 [==============================] - 6s 171ms/step - loss: 11.8633 - mae: 12.3497 - val_loss: 12.8137 - val_mae: 13.3004\n",
      "Epoch 158/250\n",
      "33/33 [==============================] - 6s 183ms/step - loss: 12.2239 - mae: 12.7108 - val_loss: 12.8014 - val_mae: 13.2882\n",
      "Epoch 159/250\n",
      "33/33 [==============================] - 7s 192ms/step - loss: 11.9499 - mae: 12.4364 - val_loss: 12.5733 - val_mae: 13.0613\n",
      "Epoch 160/250\n",
      "33/33 [==============================] - 6s 182ms/step - loss: 11.8361 - mae: 12.3220 - val_loss: 12.4780 - val_mae: 12.9655\n",
      "Epoch 161/250\n",
      "33/33 [==============================] - 6s 174ms/step - loss: 11.8226 - mae: 12.3086 - val_loss: 12.5684 - val_mae: 13.0558\n",
      "Epoch 162/250\n",
      "33/33 [==============================] - 6s 184ms/step - loss: 12.0792 - mae: 12.5660 - val_loss: 12.4876 - val_mae: 12.9759\n",
      "Epoch 163/250\n",
      "33/33 [==============================] - 6s 179ms/step - loss: 11.8154 - mae: 12.3024 - val_loss: 12.8635 - val_mae: 13.3493\n",
      "Epoch 164/250\n",
      "33/33 [==============================] - 7s 187ms/step - loss: 11.7790 - mae: 12.2653 - val_loss: 12.4402 - val_mae: 12.9275\n",
      "Epoch 165/250\n",
      "33/33 [==============================] - 6s 183ms/step - loss: 11.6132 - mae: 12.0991 - val_loss: 12.3481 - val_mae: 12.8342\n",
      "Epoch 166/250\n",
      "33/33 [==============================] - 6s 171ms/step - loss: 11.7719 - mae: 12.2586 - val_loss: 12.3098 - val_mae: 12.7964\n",
      "Epoch 167/250\n",
      "33/33 [==============================] - 6s 181ms/step - loss: 11.4929 - mae: 11.9781 - val_loss: 12.2554 - val_mae: 12.7431\n",
      "Epoch 168/250\n",
      "33/33 [==============================] - 6s 173ms/step - loss: 11.6008 - mae: 12.0863 - val_loss: 12.1835 - val_mae: 12.6707\n",
      "Epoch 169/250\n",
      "33/33 [==============================] - 7s 196ms/step - loss: 11.5088 - mae: 11.9954 - val_loss: 12.3095 - val_mae: 12.7952\n",
      "Epoch 170/250\n",
      "33/33 [==============================] - 6s 177ms/step - loss: 11.5004 - mae: 11.9864 - val_loss: 12.0945 - val_mae: 12.5817\n",
      "Epoch 171/250\n",
      "33/33 [==============================] - 6s 170ms/step - loss: 11.2977 - mae: 11.7826 - val_loss: 12.0401 - val_mae: 12.5274\n",
      "Epoch 172/250\n",
      "33/33 [==============================] - 6s 181ms/step - loss: 11.5923 - mae: 12.0783 - val_loss: 12.0617 - val_mae: 12.5470\n",
      "Epoch 173/250\n",
      "33/33 [==============================] - 6s 168ms/step - loss: 11.5931 - mae: 12.0792 - val_loss: 11.9483 - val_mae: 12.4349\n",
      "Epoch 174/250\n",
      "33/33 [==============================] - 7s 187ms/step - loss: 11.2570 - mae: 11.7419 - val_loss: 12.0321 - val_mae: 12.5189\n",
      "Epoch 175/250\n",
      "33/33 [==============================] - 6s 173ms/step - loss: 11.3990 - mae: 11.8850 - val_loss: 11.9215 - val_mae: 12.4082\n",
      "Epoch 176/250\n",
      "33/33 [==============================] - 6s 183ms/step - loss: 11.2852 - mae: 11.7710 - val_loss: 11.8744 - val_mae: 12.3617\n",
      "Epoch 177/250\n",
      "33/33 [==============================] - 6s 179ms/step - loss: 11.3702 - mae: 11.8565 - val_loss: 12.0066 - val_mae: 12.4933\n",
      "Epoch 178/250\n",
      "33/33 [==============================] - 6s 174ms/step - loss: 11.4234 - mae: 11.9091 - val_loss: 11.8105 - val_mae: 12.2971\n",
      "Epoch 179/250\n",
      "33/33 [==============================] - 6s 183ms/step - loss: 11.1003 - mae: 11.5855 - val_loss: 12.1387 - val_mae: 12.6248\n",
      "Epoch 180/250\n",
      "33/33 [==============================] - 6s 181ms/step - loss: 11.2876 - mae: 11.7737 - val_loss: 11.8023 - val_mae: 12.2878\n",
      "Epoch 181/250\n",
      "33/33 [==============================] - 6s 184ms/step - loss: 11.2327 - mae: 11.7181 - val_loss: 11.9153 - val_mae: 12.4005\n",
      "Epoch 182/250\n",
      "33/33 [==============================] - 6s 170ms/step - loss: 10.9907 - mae: 11.4757 - val_loss: 11.6054 - val_mae: 12.0921\n",
      "Epoch 183/250\n",
      "33/33 [==============================] - 7s 188ms/step - loss: 10.9766 - mae: 11.4625 - val_loss: 12.5204 - val_mae: 13.0070\n",
      "Epoch 184/250\n",
      "33/33 [==============================] - 6s 178ms/step - loss: 11.2762 - mae: 11.7620 - val_loss: 11.7214 - val_mae: 12.2073\n",
      "Epoch 185/250\n",
      "33/33 [==============================] - 7s 186ms/step - loss: 11.1106 - mae: 11.5963 - val_loss: 11.8670 - val_mae: 12.3518\n",
      "Epoch 186/250\n",
      "33/33 [==============================] - 6s 185ms/step - loss: 11.1017 - mae: 11.5872 - val_loss: 11.5580 - val_mae: 12.0432\n",
      "Epoch 187/250\n",
      "33/33 [==============================] - 6s 181ms/step - loss: 10.8927 - mae: 11.3776 - val_loss: 11.4302 - val_mae: 11.9154\n",
      "Epoch 188/250\n",
      "33/33 [==============================] - 6s 179ms/step - loss: 10.6455 - mae: 11.1297 - val_loss: 11.6945 - val_mae: 12.1812\n",
      "Epoch 189/250\n",
      "33/33 [==============================] - 6s 170ms/step - loss: 11.1974 - mae: 11.6830 - val_loss: 11.5129 - val_mae: 11.9987\n",
      "Epoch 190/250\n",
      "33/33 [==============================] - 7s 196ms/step - loss: 10.7715 - mae: 11.2567 - val_loss: 11.3857 - val_mae: 11.8708\n",
      "Epoch 191/250\n",
      "33/33 [==============================] - 6s 177ms/step - loss: 10.9084 - mae: 11.3938 - val_loss: 11.5409 - val_mae: 12.0268\n",
      "Epoch 192/250\n",
      "33/33 [==============================] - 6s 172ms/step - loss: 10.8966 - mae: 11.3818 - val_loss: 11.3322 - val_mae: 11.8174\n",
      "Epoch 193/250\n",
      "33/33 [==============================] - 6s 180ms/step - loss: 10.7151 - mae: 11.1996 - val_loss: 11.1917 - val_mae: 11.6777\n",
      "Epoch 194/250\n",
      "33/33 [==============================] - 6s 172ms/step - loss: 10.5868 - mae: 11.0706 - val_loss: 11.4578 - val_mae: 11.9435\n",
      "Epoch 195/250\n",
      "33/33 [==============================] - 6s 174ms/step - loss: 10.7092 - mae: 11.1937 - val_loss: 11.2001 - val_mae: 11.6849\n",
      "Epoch 196/250\n",
      "33/33 [==============================] - 6s 184ms/step - loss: 10.7443 - mae: 11.2292 - val_loss: 11.2621 - val_mae: 11.7488\n",
      "Epoch 197/250\n",
      "33/33 [==============================] - 6s 180ms/step - loss: 10.7676 - mae: 11.2522 - val_loss: 11.3322 - val_mae: 11.8190\n",
      "Epoch 198/250\n",
      "33/33 [==============================] - 6s 177ms/step - loss: 10.6465 - mae: 11.1311 - val_loss: 11.0176 - val_mae: 11.5034\n",
      "Epoch 199/250\n",
      "33/33 [==============================] - 6s 174ms/step - loss: 10.6815 - mae: 11.1661 - val_loss: 12.5327 - val_mae: 13.0188\n",
      "Epoch 200/250\n",
      "33/33 [==============================] - 6s 183ms/step - loss: 11.1236 - mae: 11.6085 - val_loss: 11.2393 - val_mae: 11.7244\n",
      "Epoch 201/250\n",
      "33/33 [==============================] - 6s 185ms/step - loss: 10.5907 - mae: 11.0750 - val_loss: 11.3604 - val_mae: 11.8459\n",
      "Epoch 202/250\n",
      "33/33 [==============================] - 6s 173ms/step - loss: 10.7209 - mae: 11.2055 - val_loss: 11.1814 - val_mae: 11.6673\n",
      "Epoch 203/250\n",
      "33/33 [==============================] - 6s 169ms/step - loss: 10.5729 - mae: 11.0572 - val_loss: 10.9050 - val_mae: 11.3908\n",
      "Epoch 204/250\n",
      "33/33 [==============================] - 6s 180ms/step - loss: 10.3535 - mae: 10.8376 - val_loss: 10.9060 - val_mae: 11.3914\n",
      "Epoch 205/250\n",
      "33/33 [==============================] - 6s 167ms/step - loss: 10.2533 - mae: 10.7367 - val_loss: 10.9250 - val_mae: 11.4113\n",
      "Epoch 206/250\n",
      "33/33 [==============================] - 7s 196ms/step - loss: 10.4984 - mae: 10.9825 - val_loss: 11.6602 - val_mae: 12.1457\n",
      "Epoch 207/250\n",
      "33/33 [==============================] - 6s 179ms/step - loss: 10.6079 - mae: 11.0926 - val_loss: 10.8679 - val_mae: 11.3531\n",
      "Epoch 208/250\n",
      "33/33 [==============================] - 6s 174ms/step - loss: 10.3878 - mae: 10.8717 - val_loss: 10.8650 - val_mae: 11.3506\n",
      "Epoch 209/250\n",
      "33/33 [==============================] - 6s 181ms/step - loss: 10.1919 - mae: 10.6751 - val_loss: 10.6351 - val_mae: 11.1207\n",
      "Epoch 210/250\n",
      "33/33 [==============================] - 6s 169ms/step - loss: 10.3447 - mae: 10.8281 - val_loss: 10.9221 - val_mae: 11.4072\n",
      "Epoch 211/250\n",
      "33/33 [==============================] - 6s 175ms/step - loss: 10.3210 - mae: 10.8044 - val_loss: 10.7117 - val_mae: 11.1952\n",
      "Epoch 212/250\n",
      "33/33 [==============================] - 6s 185ms/step - loss: 10.1133 - mae: 10.5956 - val_loss: 10.4767 - val_mae: 10.9614\n",
      "Epoch 213/250\n",
      "33/33 [==============================] - 6s 179ms/step - loss: 10.0264 - mae: 10.5094 - val_loss: 10.5924 - val_mae: 11.0772\n",
      "Epoch 214/250\n",
      "33/33 [==============================] - 6s 181ms/step - loss: 9.8716 - mae: 10.3537 - val_loss: 10.4283 - val_mae: 10.9133\n",
      "Epoch 215/250\n",
      "33/33 [==============================] - 6s 167ms/step - loss: 10.0751 - mae: 10.5586 - val_loss: 10.7381 - val_mae: 11.2225\n",
      "Epoch 216/250\n",
      "33/33 [==============================] - 6s 180ms/step - loss: 10.0926 - mae: 10.5751 - val_loss: 10.3106 - val_mae: 10.7955\n",
      "Epoch 217/250\n",
      "33/33 [==============================] - 7s 187ms/step - loss: 9.5747 - mae: 10.0568 - val_loss: 11.3809 - val_mae: 11.8670\n",
      "Epoch 218/250\n",
      "33/33 [==============================] - 6s 181ms/step - loss: 10.6769 - mae: 11.1615 - val_loss: 10.7232 - val_mae: 11.2079\n",
      "Epoch 219/250\n",
      "33/33 [==============================] - 6s 171ms/step - loss: 9.8023 - mae: 10.2851 - val_loss: 10.3524 - val_mae: 10.8364\n",
      "Epoch 220/250\n",
      "33/33 [==============================] - 6s 178ms/step - loss: 9.7442 - mae: 10.2272 - val_loss: 10.6494 - val_mae: 11.1322\n",
      "Epoch 221/250\n",
      "33/33 [==============================] - 6s 168ms/step - loss: 9.9768 - mae: 10.4598 - val_loss: 10.1170 - val_mae: 10.6015\n",
      "Epoch 222/250\n",
      "33/33 [==============================] - 7s 191ms/step - loss: 9.5215 - mae: 10.0026 - val_loss: 10.0545 - val_mae: 10.5386\n",
      "Epoch 223/250\n",
      "33/33 [==============================] - 6s 181ms/step - loss: 9.6999 - mae: 10.1820 - val_loss: 9.9984 - val_mae: 10.4814\n",
      "Epoch 224/250\n",
      "33/33 [==============================] - 6s 174ms/step - loss: 9.5745 - mae: 10.0555 - val_loss: 10.2496 - val_mae: 10.7325\n",
      "Epoch 225/250\n",
      "33/33 [==============================] - 6s 183ms/step - loss: 9.6599 - mae: 10.1419 - val_loss: 9.8893 - val_mae: 10.3717\n",
      "Epoch 226/250\n",
      "33/33 [==============================] - 6s 172ms/step - loss: 9.5748 - mae: 10.0554 - val_loss: 10.9932 - val_mae: 11.4776\n",
      "Epoch 227/250\n",
      "33/33 [==============================] - 6s 177ms/step - loss: 9.5834 - mae: 10.0651 - val_loss: 9.9823 - val_mae: 10.4664\n",
      "Epoch 228/250\n",
      "33/33 [==============================] - 6s 188ms/step - loss: 9.3220 - mae: 9.8034 - val_loss: 10.1425 - val_mae: 10.6255\n",
      "Epoch 229/250\n",
      "33/33 [==============================] - 6s 173ms/step - loss: 9.3504 - mae: 9.8313 - val_loss: 9.8161 - val_mae: 10.2994\n",
      "Epoch 230/250\n",
      "33/33 [==============================] - 6s 182ms/step - loss: 9.5354 - mae: 10.0176 - val_loss: 9.6925 - val_mae: 10.1748\n",
      "Epoch 231/250\n",
      "33/33 [==============================] - 6s 173ms/step - loss: 9.1341 - mae: 9.6136 - val_loss: 9.6095 - val_mae: 10.0933\n",
      "Epoch 232/250\n",
      "33/33 [==============================] - 6s 184ms/step - loss: 9.3770 - mae: 9.8590 - val_loss: 9.6910 - val_mae: 10.1737\n",
      "Epoch 233/250\n",
      "33/33 [==============================] - 6s 183ms/step - loss: 9.1357 - mae: 9.6167 - val_loss: 10.0847 - val_mae: 10.5682\n",
      "Epoch 234/250\n",
      "33/33 [==============================] - 6s 181ms/step - loss: 9.7396 - mae: 10.2220 - val_loss: 9.7957 - val_mae: 10.2776\n",
      "Epoch 235/250\n",
      "33/33 [==============================] - 6s 176ms/step - loss: 9.2558 - mae: 9.7357 - val_loss: 9.6198 - val_mae: 10.1018\n",
      "Epoch 236/250\n",
      "33/33 [==============================] - 6s 174ms/step - loss: 8.9356 - mae: 9.4151 - val_loss: 9.5278 - val_mae: 10.0090\n",
      "Epoch 237/250\n",
      "33/33 [==============================] - 6s 178ms/step - loss: 9.0997 - mae: 9.5803 - val_loss: 9.4257 - val_mae: 9.9069\n",
      "Epoch 238/250\n",
      "33/33 [==============================] - 7s 188ms/step - loss: 8.7345 - mae: 9.2138 - val_loss: 9.7905 - val_mae: 10.2752\n",
      "Epoch 239/250\n",
      "33/33 [==============================] - 6s 186ms/step - loss: 8.9078 - mae: 9.3879 - val_loss: 10.6539 - val_mae: 11.1393\n",
      "Epoch 240/250\n",
      "33/33 [==============================] - 6s 177ms/step - loss: 9.4979 - mae: 9.9804 - val_loss: 10.1491 - val_mae: 10.6353\n",
      "Epoch 241/250\n",
      "33/33 [==============================] - 7s 189ms/step - loss: 9.2373 - mae: 9.7183 - val_loss: 9.3062 - val_mae: 9.7862\n",
      "Epoch 242/250\n",
      "33/33 [==============================] - 6s 179ms/step - loss: 8.6381 - mae: 9.1169 - val_loss: 9.0681 - val_mae: 9.5494\n",
      "Epoch 243/250\n",
      "33/33 [==============================] - 7s 194ms/step - loss: 8.6728 - mae: 9.1516 - val_loss: 9.0927 - val_mae: 9.5746\n",
      "Epoch 244/250\n",
      "33/33 [==============================] - 6s 186ms/step - loss: 8.7911 - mae: 9.2713 - val_loss: 10.1476 - val_mae: 10.6321\n",
      "Epoch 245/250\n",
      "33/33 [==============================] - 6s 175ms/step - loss: 8.6502 - mae: 9.1299 - val_loss: 9.3770 - val_mae: 9.8609\n",
      "Epoch 246/250\n",
      "33/33 [==============================] - 6s 182ms/step - loss: 8.4024 - mae: 8.8811 - val_loss: 10.1176 - val_mae: 10.6011\n",
      "Epoch 247/250\n",
      "33/33 [==============================] - 6s 177ms/step - loss: 8.6960 - mae: 9.1756 - val_loss: 10.2587 - val_mae: 10.7463\n",
      "Epoch 248/250\n",
      "33/33 [==============================] - 7s 201ms/step - loss: 9.4431 - mae: 9.9256 - val_loss: 9.5159 - val_mae: 9.9994\n",
      "Epoch 249/250\n",
      "33/33 [==============================] - 6s 186ms/step - loss: 8.7375 - mae: 9.2168 - val_loss: 8.7800 - val_mae: 9.2598\n",
      "Epoch 250/250\n",
      "33/33 [==============================] - 6s 173ms/step - loss: 8.2062 - mae: 8.6827 - val_loss: 8.8828 - val_mae: 9.3651\n"
     ]
    }
   ],
   "source": [
    "tf.keras.backend.clear_session()\n",
    "tf.random.set_seed(51)\n",
    "np.random.seed(51)\n",
    "\n",
    "class mycallback(tf.keras.callbacks.Callback):\n",
    "    def on_epoch_end(self,epoch,logs={}):\n",
    "        if (logs.get('val_mae')<15):\n",
    "            print(\"MAE Achieved !!!\")\n",
    "            self.model.stop_training = True\n",
    "        \n",
    "window_size = 60\n",
    "batch_size = 320\n",
    "train_set = windowed_dataset(x_train,window_size,batch_size,shuffle_buffer_size)\n",
    "val_set = windowed_dataset(x_valid,window_size,batch_size,shuffle_buffer_size)\n",
    "\n",
    "\n",
    "model = tf.keras.models.Sequential([\n",
    "    tf.keras.layers.Bidirectional(tf.keras.layers.LSTM(120,input_shape = (window_size,), return_sequences = True)),\n",
    "    tf.keras.layers.Bidirectional(tf.keras.layers.LSTM(60, return_sequences=True)),\n",
    "    tf.keras.layers.SimpleRNN(60,return_sequences = True),\n",
    "    tf.keras.layers.SimpleRNN(30,return_sequences  = True),\n",
    "    tf.keras.layers.Dense(30,activation = tf.keras.activations.relu),\n",
    "    tf.keras.layers.Dense(10,activation = tf.keras.activations.relu),\n",
    "    tf.keras.layers.Dense(1),\n",
    "    #tf.keras.layers.Lambda(lambda x:x*400)\n",
    "])\n",
    "\n",
    "callbacks = mycallback()\n",
    "#lr_schedule = tf.keras.callbacks.LearningRateScheduler(lambda epoch : 1e-8*10**(epoch/20))\n",
    "optimizers = tf.keras.optimizers.SGD(lr = 1e-5,momentum = 0.9)\n",
    "early_stopping = tf.keras.callbacks.EarlyStopping(monitor = 'val_loss',patience = 2)\n",
    "model.compile(loss = tf.keras.losses.Huber(),optimizer=optimizers,metrics = ['mae'])\n",
    "history = model.fit(train_set,epochs = 250,validation_data= val_set)"
   ]
  },
  {
   "cell_type": "markdown",
   "metadata": {},
   "source": [
    "## Model Summary"
   ]
  },
  {
   "cell_type": "code",
   "execution_count": 65,
   "metadata": {
    "execution": {
     "iopub.execute_input": "2021-05-26T06:22:22.500446Z",
     "iopub.status.busy": "2021-05-26T06:22:22.500069Z",
     "iopub.status.idle": "2021-05-26T06:22:22.517111Z",
     "shell.execute_reply": "2021-05-26T06:22:22.514584Z",
     "shell.execute_reply.started": "2021-05-26T06:22:22.500416Z"
    },
    "scrolled": false
   },
   "outputs": [
    {
     "name": "stdout",
     "output_type": "stream",
     "text": [
      "Model: \"sequential\"\n",
      "_________________________________________________________________\n",
      "Layer (type)                 Output Shape              Param #   \n",
      "=================================================================\n",
      "bidirectional (Bidirectional (None, None, 240)         117120    \n",
      "_________________________________________________________________\n",
      "bidirectional_1 (Bidirection (None, None, 120)         144480    \n",
      "_________________________________________________________________\n",
      "simple_rnn (SimpleRNN)       (None, None, 60)          10860     \n",
      "_________________________________________________________________\n",
      "simple_rnn_1 (SimpleRNN)     (None, None, 30)          2730      \n",
      "_________________________________________________________________\n",
      "dense (Dense)                (None, None, 30)          930       \n",
      "_________________________________________________________________\n",
      "dense_1 (Dense)              (None, None, 10)          310       \n",
      "_________________________________________________________________\n",
      "dense_2 (Dense)              (None, None, 1)           11        \n",
      "=================================================================\n",
      "Total params: 276,441\n",
      "Trainable params: 276,441\n",
      "Non-trainable params: 0\n",
      "_________________________________________________________________\n"
     ]
    }
   ],
   "source": [
    "model.summary()"
   ]
  },
  {
   "cell_type": "markdown",
   "metadata": {},
   "source": [
    "## Getting the forecasts"
   ]
  },
  {
   "cell_type": "code",
   "execution_count": 66,
   "metadata": {
    "execution": {
     "iopub.execute_input": "2021-05-26T06:22:39.220574Z",
     "iopub.status.busy": "2021-05-26T06:22:39.220081Z",
     "iopub.status.idle": "2021-05-26T06:22:43.096648Z",
     "shell.execute_reply": "2021-05-26T06:22:43.095575Z",
     "shell.execute_reply.started": "2021-05-26T06:22:39.220544Z"
    }
   },
   "outputs": [],
   "source": [
    "rnn_forecast = model_forecast(model,series[...,np.newaxis],window_size)\n",
    "rnn_forecast = rnn_forecast[split_time-window_size:-1,-1,0]"
   ]
  },
  {
   "cell_type": "code",
   "execution_count": 22,
   "metadata": {
    "execution": {
     "iopub.execute_input": "2021-05-26T05:24:24.974947Z",
     "iopub.status.busy": "2021-05-26T05:24:24.974427Z",
     "iopub.status.idle": "2021-05-26T05:24:24.982324Z",
     "shell.execute_reply": "2021-05-26T05:24:24.981002Z",
     "shell.execute_reply.started": "2021-05-26T05:24:24.974914Z"
    }
   },
   "outputs": [
    {
     "data": {
      "text/plain": [
       "array([103.5601   ,  93.675644 ,  85.28905  , ...,   2.0012028,\n",
       "        14.161951 ,  20.72472  ], dtype=float32)"
      ]
     },
     "execution_count": 22,
     "metadata": {},
     "output_type": "execute_result"
    }
   ],
   "source": [
    "rnn_forecast"
   ]
  },
  {
   "cell_type": "markdown",
   "metadata": {},
   "source": [
    "## Plotting original vs Forecasted"
   ]
  },
  {
   "cell_type": "code",
   "execution_count": 67,
   "metadata": {
    "execution": {
     "iopub.execute_input": "2021-05-26T06:23:41.700494Z",
     "iopub.status.busy": "2021-05-26T06:23:41.700142Z",
     "iopub.status.idle": "2021-05-26T06:23:41.970009Z",
     "shell.execute_reply": "2021-05-26T06:23:41.968639Z",
     "shell.execute_reply.started": "2021-05-26T06:23:41.700451Z"
    }
   },
   "outputs": [
    {
     "data": {
      "text/plain": [
       "<matplotlib.legend.Legend at 0x7f7920319a50>"
      ]
     },
     "execution_count": 67,
     "metadata": {},
     "output_type": "execute_result"
    },
    {
     "data": {
      "image/png": "[encoded data removed]",
      "text/plain": [
       "<Figure size 432x288 with 1 Axes>"
      ]
     },
     "metadata": {
      "needs_background": "light"
     },
     "output_type": "display_data"
    }
   ],
   "source": [
    "plt.plot(time_valid[:400],x_valid[:400],\"r\",label = \"Original\")\n",
    "plt.plot(time_valid[:400],rnn_forecast[:400],label = \"Predicted\")\n",
    "plt.xticks(\"off\")\n",
    "plt.legend(loc='best')"
   ]
  },
  {
   "cell_type": "markdown",
   "metadata": {},
   "source": [
    "## Predicting the next value as our model contains value till 3265, So for window size = 60, we take the the series for predition as 3205:3265"
   ]
  },
  {
   "cell_type": "code",
   "execution_count": 88,
   "metadata": {
    "execution": {
     "iopub.execute_input": "2021-05-26T06:29:09.176206Z",
     "iopub.status.busy": "2021-05-26T06:29:09.175651Z",
     "iopub.status.idle": "2021-05-26T06:29:09.267028Z",
     "shell.execute_reply": "2021-05-26T06:29:09.265647Z",
     "shell.execute_reply.started": "2021-05-26T06:29:09.176148Z"
    }
   },
   "outputs": [
    {
     "data": {
      "text/plain": [
       "array([[[8.041251]]], dtype=float32)"
      ]
     },
     "execution_count": 88,
     "metadata": {},
     "output_type": "execute_result"
    }
   ],
   "source": [
    "model.predict(tf.expand_dims(tf.expand_dims(series[3205:3265],0),1))"
   ]
  },
  {
   "cell_type": "code",
   "execution_count": 89,
   "metadata": {
    "execution": {
     "iopub.execute_input": "2021-05-26T06:29:22.529589Z",
     "iopub.status.busy": "2021-05-26T06:29:22.529248Z",
     "iopub.status.idle": "2021-05-26T06:29:22.717201Z",
     "shell.execute_reply": "2021-05-26T06:29:22.715704Z",
     "shell.execute_reply.started": "2021-05-26T06:29:22.529559Z"
    }
   },
   "outputs": [
    {
     "data": {
      "text/plain": [
       "<Figure size 432x288 with 0 Axes>"
      ]
     },
     "execution_count": 89,
     "metadata": {},
     "output_type": "execute_result"
    },
    {
     "data": {
      "image/png": "[encoded data removed]",
      "text/plain": [
       "<Figure size 432x288 with 1 Axes>"
      ]
     },
     "metadata": {
      "needs_background": "light"
     },
     "output_type": "display_data"
    },
    {
     "data": {
      "text/plain": [
       "<Figure size 432x288 with 0 Axes>"
      ]
     },
     "metadata": {},
     "output_type": "display_data"
    }
   ],
   "source": [
    "#-----------------------------------------------------------\n",
    "# Retrieve a list of list results on training and test data\n",
    "# sets for each training epoch\n",
    "#-----------------------------------------------------------\n",
    "loss=history.history['loss']\n",
    "val_loss = history.history['val_loss']\n",
    "\n",
    "\n",
    "epochs=range(len(loss)) # Get number of epochs\n",
    "\n",
    "\n",
    "#------------------------------------------------\n",
    "# Plot training and validation loss per epoch\n",
    "#------------------------------------------------\n",
    "plt.plot(epochs, loss, 'r',label = 'loss')\n",
    "plt.plot(epochs,val_loss,\"b\",label = 'val_loss')\n",
    "plt.title('Training loss')\n",
    "plt.xlabel(\"Epochs\")\n",
    "plt.ylabel(\"Loss\")\n",
    "plt.legend(loc= 'best')\n",
    "\n",
    "plt.figure()"
   ]
  }
 ],
 "metadata": {
  "kernelspec": {
   "display_name": "Python 3",
   "language": "python",
   "name": "python3"
  },
  "language_info": {
   "codemirror_mode": {
    "name": "ipython",
    "version": 3
   },
   "file_extension": ".py",
   "mimetype": "text/x-python",
   "name": "python",
   "nbconvert_exporter": "python",
   "pygments_lexer": "ipython3",
   "version": "3.6.9"
  }
 },
 "nbformat": 4,
 "nbformat_minor": 4
}
